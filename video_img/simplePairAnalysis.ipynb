{
 "cells": [
  {
   "cell_type": "code",
   "execution_count": 21,
   "metadata": {},
   "outputs": [],
   "source": [
    "import numpy as np\n",
    "import cv2 as ocv\n",
    "import scipy.stats as scs\n",
    "import matplotlib.pyplot as plt\n",
    "import cmath"
   ]
  },
  {
   "cell_type": "code",
   "execution_count": 22,
   "metadata": {},
   "outputs": [],
   "source": [
    "def quadratic_solution(a, b, c):    \n",
    "    d = (b**2) - (4 * a * c)\n",
    "    sol1 = ((-b - cmath.sqrt(d)) / (2*a))\n",
    "    sol2 = ((-b + cmath.sqrt(d)) / (2*a))\n",
    "\n",
    "    return sol2.real, sol1.real        "
   ]
  },
  {
   "cell_type": "code",
   "execution_count": 23,
   "metadata": {},
   "outputs": [],
   "source": [
    "img_r = ocv.imread(r\"Encoded_image\\dct_Apple1.png\", ocv.IMREAD_GRAYSCALE)\n",
    "threshold = 0\n",
    "\n",
    "dimensions = img_r.shape\n",
    "img_height = dimensions[0]\n",
    "img_width = dimensions[1]\n",
    "\n",
    "P = []"
   ]
  },
  {
   "cell_type": "code",
   "execution_count": 24,
   "metadata": {},
   "outputs": [],
   "source": [
    "for i in range(0, img_height):\n",
    "    for j in range(0, img_width-1):\n",
    "        c1 = img_r[i, j]\n",
    "        c2 = img_r[i, j + 1]\n",
    "        P.append((c1, c2))"
   ]
  },
  {
   "cell_type": "code",
   "execution_count": 25,
   "metadata": {},
   "outputs": [],
   "source": [
    "x = y = kp = 0\n",
    "\n",
    "for k in range(0, (img_height * (img_width-1))):\n",
    "    (r, s) = P[k]\n",
    "    if(((s % 2 == 0) and (r < s)) or ((s % 2 != 0) and (r > s))):\n",
    "        x += 1\n",
    "    elif(((s % 2 == 0) and (r > s)) or ((s % 2 != 0) and (r < s))):\n",
    "        y += 1\n",
    "    elif((s // 2) == (r // 2)):\n",
    "        kp += 1"
   ]
  },
  {
   "cell_type": "code",
   "execution_count": 26,
   "metadata": {},
   "outputs": [],
   "source": [
    "if kp == 0:\n",
    "    print(\"SPA Failed because k = 0\")"
   ]
  },
  {
   "cell_type": "code",
   "execution_count": 27,
   "metadata": {},
   "outputs": [
    {
     "name": "stdout",
     "output_type": "stream",
     "text": [
      "Probability of image containing hidden data: 0.0003822353194406276\n"
     ]
    }
   ],
   "source": [
    "a = 2 * kp\n",
    "b = 2 * (2 * x - img_height*(img_width-1))\n",
    "c = y - x\n",
    "\n",
    "betaP, betaM = quadratic_solution(a, b, c)\n",
    "\n",
    "beta = min(betaP, betaM)\n",
    "\n",
    "print(\"Probability of image containing hidden data: \" + str(beta))"
   ]
  },
  {
   "cell_type": "code",
   "execution_count": null,
   "metadata": {},
   "outputs": [],
   "source": [
    "0.0009609757529921275"
   ]
  },
  {
   "cell_type": "code",
   "execution_count": 20,
   "metadata": {},
   "outputs": [],
   "source": [
    "nm = 0.0054439192803363914\n",
    "ee = 0.24167798058950687\n",
    "e4 = 0.028466908358900807\n",
    "ep = 0.013534928157087256\n",
    "er = 0.06604697196515141"
   ]
  }
 ],
 "metadata": {
  "kernelspec": {
   "display_name": "Python 3",
   "language": "python",
   "name": "python3"
  },
  "language_info": {
   "codemirror_mode": {
    "name": "ipython",
    "version": 3
   },
   "file_extension": ".py",
   "mimetype": "text/x-python",
   "name": "python",
   "nbconvert_exporter": "python",
   "pygments_lexer": "ipython3",
   "version": "3.10.11"
  },
  "orig_nbformat": 4
 },
 "nbformat": 4,
 "nbformat_minor": 2
}
