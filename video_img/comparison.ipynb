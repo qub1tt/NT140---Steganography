{
 "cells": [
  {
   "cell_type": "code",
   "execution_count": 2,
   "metadata": {},
   "outputs": [],
   "source": [
    "import numpy as np\n",
    "import cv2\n",
    "\n",
    "def calculate_mse_psnr(img1, img2):\n",
    "    # Kiểm tra xem hai ảnh có cùng kích thước không\n",
    "    if img1.shape != img2.shape:\n",
    "        print(f\"Dimension mismatch: Original {img1.shape}, Encoded {img2.shape}\")\n",
    "        img1 = cv2.resize(img1, (img2.shape[1], img2.shape[0]))\n",
    "\n",
    "\n",
    "    \n",
    "    # Tính MSE\n",
    "    mse = np.mean((img1 - img2) ** 2)\n",
    "    if mse == 0:\n",
    "        return float('inf'), float('inf')  # Ảnh giống hệt nhau\n",
    "    \n",
    "    # Tính PSNR\n",
    "    max_pixel = 255.0  # Giá trị pixel tối đa (8-bit)\n",
    "    psnr = 10 * np.log10((max_pixel ** 2) / mse)\n",
    "    \n",
    "    return mse, psnr"
   ]
  },
  {
   "cell_type": "code",
   "execution_count": 7,
   "metadata": {},
   "outputs": [
    {
     "name": "stdout",
     "output_type": "stream",
     "text": [
      "MSE: 0.5001413727292006\n",
      "PSNR: 51.139875790960886 dB\n"
     ]
    }
   ],
   "source": [
    "# Đọc hai ảnh\n",
    "img1 = cv2.imread('Original_image\\Apple1.png')\n",
    "img2 = cv2.imread('lsb.png')\n",
    "\n",
    "# Tính MSE và PSNR\n",
    "mse, psnr = calculate_mse_psnr(img1, img2)\n",
    "\n",
    "print(f\"MSE: {mse}\")\n",
    "print(f\"PSNR: {psnr} dB\")"
   ]
  },
  {
   "cell_type": "code",
   "execution_count": 8,
   "metadata": {},
   "outputs": [
    {
     "name": "stdout",
     "output_type": "stream",
     "text": [
      "MSE: 0.0008313011003510756\n",
      "PSNR: 78.93322005512073 dB\n"
     ]
    }
   ],
   "source": [
    "# Đọc hai ảnh\n",
    "img1 = cv2.imread('Original_image\\Apple1.png')\n",
    "img2 = cv2.imread('pvd.png')\n",
    "\n",
    "# Tính MSE và PSNR\n",
    "mse, psnr = calculate_mse_psnr(img1, img2)\n",
    "\n",
    "print(f\"MSE: {mse}\")\n",
    "print(f\"PSNR: {psnr} dB\")"
   ]
  },
  {
   "cell_type": "code",
   "execution_count": 3,
   "metadata": {},
   "outputs": [
    {
     "name": "stdout",
     "output_type": "stream",
     "text": [
      "Dimension mismatch: Original (1204, 1880, 3), Encoded (1208, 1888, 3)\n",
      "MSE: 0.5746291495959143\n",
      "PSNR: 50.536927079074985 dB\n"
     ]
    }
   ],
   "source": [
    "# Đọc hai ảnh\n",
    "img1 = cv2.imread('Original_image\\Apple1.png')\n",
    "img2 = cv2.imread('Encoded_image\\dct_Apple1.png')\n",
    "\n",
    "# Tính MSE và PSNR\n",
    "mse, psnr = calculate_mse_psnr(img1, img2)\n",
    "\n",
    "print(f\"MSE: {mse}\")\n",
    "print(f\"PSNR: {psnr} dB\")"
   ]
  }
 ],
 "metadata": {
  "kernelspec": {
   "display_name": "Python 3",
   "language": "python",
   "name": "python3"
  },
  "language_info": {
   "codemirror_mode": {
    "name": "ipython",
    "version": 3
   },
   "file_extension": ".py",
   "mimetype": "text/x-python",
   "name": "python",
   "nbconvert_exporter": "python",
   "pygments_lexer": "ipython3",
   "version": "3.10.11"
  }
 },
 "nbformat": 4,
 "nbformat_minor": 2
}
